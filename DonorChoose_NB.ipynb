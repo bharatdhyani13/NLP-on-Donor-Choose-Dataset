{
 "cells": [
  {
   "cell_type": "markdown",
   "metadata": {
    "colab_type": "text",
    "id": "Dnubs-Nnb3cw"
   },
   "source": [
    "# Assignment 6: Apply NB"
   ]
  },
  {
   "cell_type": "markdown",
   "metadata": {
    "colab_type": "text",
    "id": "RW0zYHb5m_wI"
   },
   "source": [
    "<ol>\n",
    "    <li>Minimum data points need to be considered for people having 4GB RAM is <strong>50k</strong> and for 8GB RAM is <strong>100k</strong></li>\n",
    "    <li>When you are using ramdomsearchcv or gridsearchcv you need not split the data into X_train,X_cv,X_test. As the above methods use kfold. The model will learn better if train data is more so splitting to X_train,X_test will suffice.</li>\n",
    "    <li>If you are writing for loops to tune your model then you need split the data into X_train,X_cv,X_test.</li>\n",
    "    <li>While splitting the data explore stratify parameter. </li>\n",
    "    <li><strong>Apply Multinomial NB on these feature sets</strong></li>\n",
    "        <ul>\n",
    "            <li>Features that need to be considered</li> \n",
    "                <dl>\n",
    "                  <dt>essay</dt>\n",
    "                    <dd>while encoding essay, try to experiment with the max_features and n_grams parameter of vectorizers and see if it increases AUC score.</dd>\n",
    "                  <dt>categorical features</dt>\n",
    "                  <dd> - teacher_prefix</dd>\n",
    "                  <dd> - project_grade_category</dd>\n",
    "                  <dd> - school_state</dd>\n",
    "                  <dd> - clean_categories</dd>\n",
    "                  <dd> - clean_subcategories</dd>\n",
    "                  <dt>numerical features</dt>\n",
    "                  <dd> - price</dd>\n",
    "                  <dd> - teacher_number_of_previously_posted_projects</dd>\n",
    "                  <dd>while encoding the numerical features check <a href='https://imgur.com/ldZA1zg'>this</a> and <a href='https://ac-classroom-production.s3.amazonaws.com/public/COMMENT/Annotation_2020-05-21_225912_0lyZzN8.jpg'>this</a></dd>\n",
    "                </dl>    \n",
    "            <li><font color='red'>Set 1</font>: categorical, numerical features + preprocessed_eassay (BOW)</li>\n",
    "            <li><font color='red'>Set 2</font>: categorical, numerical features + preprocessed_eassay (TFIDF)</li>\n",
    "        </ul>\n",
    "    <li><strong>The hyper paramter tuning(find best alpha:smoothing parameter)</strong>\n",
    "        <ul>\n",
    "    <li>Consider alpha values in range: 10^-5 to 10^2 like [0.00001,0.0005, 0.0001,0.005,0.001,0.05,0.01,0.1,0.5,1,5,10,50,100]</li>\n",
    "    <li>Explore class_prior = [0.5, 0.5] parameter which can be present in MultinomialNB function(go through <a href='https://scikit-learn.org/stable/modules/generated/sklearn.naive_bayes.MultinomialNB.html'>this</a> ) then check how results might change.\n",
    "    <li>Find the best hyper parameter which will give the maximum <a href='https://www.appliedaicourse.com/course/applied-ai-course-online/lessons/receiver-operating-characteristic-curve-roc-curve-and-auc-1/'>AUC</a> value</li>\n",
    "    <li>For hyper parameter tuning using k-fold cross validation(use GridsearchCV or RandomsearchCV)/simple cross validation data (write for loop to iterate over hyper parameter values)</li>\n",
    "    <li>You need to plot the performance of model both on train data and cross validation data for each hyper parameter, like shown in the figure\n",
    "    <img src='https://i.imgur.com/hUv6aEy.jpg' width=300px><dd>-while plotting take log(alpha) on your X-axis so that it will be more readable</dd></li>\n",
    "    <li>Once after you found the best hyper parameter, you need to train your model with it, and find the AUC on test data and plot the ROC curve on both train and test.\n",
    "    <img src='https://imgur.com/q2P65L5.jpg' width=300px></li>\n",
    "    <li>Along with plotting ROC curve, you need to print the <a href='https://www.appliedaicourse.com/course/applied-ai-course-online/lessons/confusion-matrix-tpr-fpr-fnr-tnr-1/'>confusion matrix</a> with predicted and original labels of test data points\n",
    "        <img src='https://i.imgur.com/IdN5Ctv.png' width=300px><dd>-plot the confusion matrix in heatmaps, while plotting the confusion matrix go through the <a href='https://stackoverflow.com/questions/61748441/how-to-fix-the-values-displayed-in-a-confusion-matrix-in-exponential-form-to-nor'>link </a>\n",
    "</dd></li>\n",
    "        </ul>\n",
    "<li>find the top 20 features from either from feature <font color='red'>Set 1</font> or feature <font color='red'>Set 2</font> using values of `feature_log_prob_ ` parameter of `MultinomialNB` \n",
    "(https://scikit-learn.org/stable/modules/generated/sklearn.naive_bayes.MultinomialNB.html) and print <strong>BOTH</strong> positive as well as negative corresponding feature names. <dd> - go through the <a href='https://imgur.com/mWvE7gj'>link </a> </dd>\n",
    "    </li>\n",
    "    <li>You need to summarize the results at the end of the notebook, summarize it in the table format\n",
    "        <img src='http://i.imgur.com/YVpIGGE.jpg' width=400px>\n",
    "    </li>\n",
    "</ol>"
   ]
  },
  {
   "cell_type": "code",
   "execution_count": 18,
   "metadata": {},
   "outputs": [
    {
     "name": "stdout",
     "output_type": "stream",
     "text": [
      "Collecting plotly\n",
      "  Downloading plotly-4.9.0-py2.py3-none-any.whl (12.9 MB)\n",
      "Collecting retrying>=1.3.3\n",
      "  Downloading retrying-1.3.3.tar.gz (10 kB)\n",
      "Requirement already satisfied: six in c:\\users\\bhara\\anaconda3\\envs\\tensorflow\\lib\\site-packages (from plotly) (1.15.0)\n",
      "Building wheels for collected packages: retrying\n",
      "  Building wheel for retrying (setup.py): started\n",
      "  Building wheel for retrying (setup.py): finished with status 'done'\n",
      "  Created wheel for retrying: filename=retrying-1.3.3-py3-none-any.whl size=11435 sha256=0f2762a0c3f8fcc50cd0b6227856f7aedfeaaf42831103f434eb66310817c279\n",
      "  Stored in directory: c:\\users\\bhara\\appdata\\local\\pip\\cache\\wheels\\f9\\8d\\8d\\f6af3f7f9eea3553bc2fe6d53e4b287dad18b06a861ac56ddf\n",
      "Successfully built retrying\n",
      "Installing collected packages: retrying, plotly\n",
      "Successfully installed plotly-4.9.0 retrying-1.3.3\n",
      "Note: you may need to restart the kernel to use updated packages.\n"
     ]
    }
   ],
   "source": [
    "pip install plotly"
   ]
  },
  {
   "cell_type": "code",
   "execution_count": 1,
   "metadata": {
    "colab": {},
    "colab_type": "code",
    "id": "chpSjDaXm9KG"
   },
   "outputs": [],
   "source": [
    "%matplotlib inline\n",
    "import warnings\n",
    "warnings.filterwarnings(\"ignore\")\n",
    "\n",
    "import pandas as pd\n",
    "import numpy as np\n",
    "import nltk\n",
    "import matplotlib.pyplot as plt\n",
    "import seaborn as sns\n",
    "from sklearn.feature_extraction.text import TfidfVectorizer\n",
    "from sklearn.feature_extraction.text import CountVectorizer\n",
    "from sklearn.metrics import confusion_matrix\n",
    "from sklearn import metrics\n",
    "from sklearn.metrics import roc_curve, auc\n",
    "\n",
    "import re\n",
    "# Tutorial about Python regular expressions: https://pymotw.com/2/re/\n",
    "\n",
    "import pickle\n",
    "from tqdm import tqdm\n",
    "import os\n",
    "\n",
    "# from plotly import plotly\n",
    "# import plotly.offline as offline\n",
    "# import plotly.graph_objs as go\n",
    "# offline.init_notebook_mode()\n",
    "from collections import Counter"
   ]
  },
  {
   "cell_type": "markdown",
   "metadata": {
    "colab_type": "text",
    "id": "inzYCIaib3c3"
   },
   "source": [
    "<h1>2. Naive Bayes </h1>"
   ]
  },
  {
   "cell_type": "markdown",
   "metadata": {
    "colab_type": "text",
    "id": "FYqCIxzFb3c5"
   },
   "source": [
    "## 1.1 Loading Data"
   ]
  },
  {
   "cell_type": "code",
   "execution_count": 2,
   "metadata": {
    "colab": {},
    "colab_type": "code",
    "id": "dA1jknyqb3c_"
   },
   "outputs": [
    {
     "data": {
      "text/html": [
       "<div>\n",
       "<style scoped>\n",
       "    .dataframe tbody tr th:only-of-type {\n",
       "        vertical-align: middle;\n",
       "    }\n",
       "\n",
       "    .dataframe tbody tr th {\n",
       "        vertical-align: top;\n",
       "    }\n",
       "\n",
       "    .dataframe thead th {\n",
       "        text-align: right;\n",
       "    }\n",
       "</style>\n",
       "<table border=\"1\" class=\"dataframe\">\n",
       "  <thead>\n",
       "    <tr style=\"text-align: right;\">\n",
       "      <th></th>\n",
       "      <th>school_state</th>\n",
       "      <th>teacher_prefix</th>\n",
       "      <th>project_grade_category</th>\n",
       "      <th>teacher_number_of_previously_posted_projects</th>\n",
       "      <th>project_is_approved</th>\n",
       "      <th>clean_categories</th>\n",
       "      <th>clean_subcategories</th>\n",
       "      <th>essay</th>\n",
       "      <th>price</th>\n",
       "    </tr>\n",
       "  </thead>\n",
       "  <tbody>\n",
       "    <tr>\n",
       "      <th>0</th>\n",
       "      <td>ca</td>\n",
       "      <td>mrs</td>\n",
       "      <td>grades_prek_2</td>\n",
       "      <td>53</td>\n",
       "      <td>1</td>\n",
       "      <td>math_science</td>\n",
       "      <td>appliedsciences health_lifescience</td>\n",
       "      <td>i fortunate enough use fairy tale stem kits cl...</td>\n",
       "      <td>725.05</td>\n",
       "    </tr>\n",
       "    <tr>\n",
       "      <th>1</th>\n",
       "      <td>ut</td>\n",
       "      <td>ms</td>\n",
       "      <td>grades_3_5</td>\n",
       "      <td>4</td>\n",
       "      <td>1</td>\n",
       "      <td>specialneeds</td>\n",
       "      <td>specialneeds</td>\n",
       "      <td>imagine 8 9 years old you third grade classroo...</td>\n",
       "      <td>213.03</td>\n",
       "    </tr>\n",
       "  </tbody>\n",
       "</table>\n",
       "</div>"
      ],
      "text/plain": [
       "  school_state teacher_prefix project_grade_category  \\\n",
       "0           ca            mrs          grades_prek_2   \n",
       "1           ut             ms             grades_3_5   \n",
       "\n",
       "   teacher_number_of_previously_posted_projects  project_is_approved  \\\n",
       "0                                            53                    1   \n",
       "1                                             4                    1   \n",
       "\n",
       "  clean_categories                 clean_subcategories  \\\n",
       "0     math_science  appliedsciences health_lifescience   \n",
       "1     specialneeds                        specialneeds   \n",
       "\n",
       "                                               essay   price  \n",
       "0  i fortunate enough use fairy tale stem kits cl...  725.05  \n",
       "1  imagine 8 9 years old you third grade classroo...  213.03  "
      ]
     },
     "execution_count": 2,
     "metadata": {},
     "output_type": "execute_result"
    }
   ],
   "source": [
    "import pandas\n",
    "data = pandas.read_csv('preprocessed_data.csv')\n",
    "data.head(2)"
   ]
  },
  {
   "cell_type": "code",
   "execution_count": 3,
   "metadata": {},
   "outputs": [
    {
     "data": {
      "text/html": [
       "<div>\n",
       "<style scoped>\n",
       "    .dataframe tbody tr th:only-of-type {\n",
       "        vertical-align: middle;\n",
       "    }\n",
       "\n",
       "    .dataframe tbody tr th {\n",
       "        vertical-align: top;\n",
       "    }\n",
       "\n",
       "    .dataframe thead th {\n",
       "        text-align: right;\n",
       "    }\n",
       "</style>\n",
       "<table border=\"1\" class=\"dataframe\">\n",
       "  <thead>\n",
       "    <tr style=\"text-align: right;\">\n",
       "      <th></th>\n",
       "      <th>school_state</th>\n",
       "      <th>teacher_prefix</th>\n",
       "      <th>project_grade_category</th>\n",
       "      <th>teacher_number_of_previously_posted_projects</th>\n",
       "      <th>clean_categories</th>\n",
       "      <th>clean_subcategories</th>\n",
       "      <th>essay</th>\n",
       "      <th>price</th>\n",
       "    </tr>\n",
       "  </thead>\n",
       "  <tbody>\n",
       "    <tr>\n",
       "      <th>0</th>\n",
       "      <td>ca</td>\n",
       "      <td>mrs</td>\n",
       "      <td>grades_prek_2</td>\n",
       "      <td>53</td>\n",
       "      <td>math_science</td>\n",
       "      <td>appliedsciences health_lifescience</td>\n",
       "      <td>i fortunate enough use fairy tale stem kits cl...</td>\n",
       "      <td>725.05</td>\n",
       "    </tr>\n",
       "    <tr>\n",
       "      <th>1</th>\n",
       "      <td>ut</td>\n",
       "      <td>ms</td>\n",
       "      <td>grades_3_5</td>\n",
       "      <td>4</td>\n",
       "      <td>specialneeds</td>\n",
       "      <td>specialneeds</td>\n",
       "      <td>imagine 8 9 years old you third grade classroo...</td>\n",
       "      <td>213.03</td>\n",
       "    </tr>\n",
       "  </tbody>\n",
       "</table>\n",
       "</div>"
      ],
      "text/plain": [
       "  school_state teacher_prefix project_grade_category  \\\n",
       "0           ca            mrs          grades_prek_2   \n",
       "1           ut             ms             grades_3_5   \n",
       "\n",
       "   teacher_number_of_previously_posted_projects clean_categories  \\\n",
       "0                                            53     math_science   \n",
       "1                                             4     specialneeds   \n",
       "\n",
       "                  clean_subcategories  \\\n",
       "0  appliedsciences health_lifescience   \n",
       "1                        specialneeds   \n",
       "\n",
       "                                               essay   price  \n",
       "0  i fortunate enough use fairy tale stem kits cl...  725.05  \n",
       "1  imagine 8 9 years old you third grade classroo...  213.03  "
      ]
     },
     "execution_count": 3,
     "metadata": {},
     "output_type": "execute_result"
    }
   ],
   "source": [
    "y = data.project_is_approved\n",
    "X = data.drop(['project_is_approved'], axis=1)\n",
    "X.head(2)"
   ]
  },
  {
   "cell_type": "markdown",
   "metadata": {
    "colab_type": "text",
    "id": "WtVV13Fyb3dH"
   },
   "source": [
    "<h2>1.2 Splitting data into Train and cross validation(or test): Stratified Sampling</h2>"
   ]
  },
  {
   "cell_type": "code",
   "execution_count": null,
   "metadata": {},
   "outputs": [],
   "source": [
    "pip install sklearn"
   ]
  },
  {
   "cell_type": "code",
   "execution_count": 4,
   "metadata": {
    "colab": {},
    "colab_type": "code",
    "id": "i-PyprDNb3dI"
   },
   "outputs": [
    {
     "name": "stdout",
     "output_type": "stream",
     "text": [
      "(72832, 8) (72832,)\n",
      "(36416, 8) (36416,)\n"
     ]
    }
   ],
   "source": [
    "# please write all the code with proper documentation, and proper titles for each subsection\n",
    "# go through documentations and blogs before you start coding\n",
    "# first figure out what to do, and then think about how to do.\n",
    "# reading and understanding error messages will be very much helpfull in debugging your code\n",
    "# when you plot any graph make sure you use \n",
    "    # a. Title, that describes your plot, this will be very helpful to the reader\n",
    "    # b. Legends if needed\n",
    "    # c. X-axis label\n",
    "    # d. Y-axis label\n",
    "from sklearn.model_selection import train_test_split\n",
    "X_train, X_cv, y_train, y_cv = train_test_split(X, y, test_size = 1/3, stratify=y)\n",
    "print(X_train.shape, y_train.shape)\n",
    "print(X_cv.shape, y_cv.shape)"
   ]
  },
  {
   "cell_type": "markdown",
   "metadata": {
    "colab_type": "text",
    "id": "EnZwVNULb3dO"
   },
   "source": [
    "<h2>1.3 Make Data Model Ready: encoding eassay, and project_title</h2>"
   ]
  },
  {
   "cell_type": "code",
   "execution_count": 26,
   "metadata": {
    "colab": {},
    "colab_type": "code",
    "id": "-SczZKiab3dR"
   },
   "outputs": [
    {
     "name": "stdout",
     "output_type": "stream",
     "text": [
      "BOW\n",
      "(72832, 10000)\n",
      "(36416, 10000)\n",
      "TF-IDF\n",
      "(72832, 10000)\n",
      "(36416, 10000)\n"
     ]
    }
   ],
   "source": [
    "# please write all the code with proper documentation, and proper titles for each subsection\n",
    "# go through documentations and blogs before you start coding\n",
    "# first figure out what to do, and then think about how to do.\n",
    "# reading and understanding error messages will be very much helpfull in debugging your code\n",
    "# make sure you featurize train and test data separatly\n",
    "\n",
    "# when you plot any graph make sure you use \n",
    "    # a. Title, that describes your plot, this will be very helpful to the reader\n",
    "    # b. Legends if needed\n",
    "    # c. X-axis label\n",
    "    # d. Y-axis label\n",
    "from sklearn.feature_extraction.text import TfidfVectorizer\n",
    "from sklearn.feature_extraction.text import CountVectorizer\n",
    "\n",
    "#BOW\n",
    "vectorizer_bow = CountVectorizer(min_df = 10, ngram_range=(1,3), max_features = 10000)\n",
    "vectorizer_bow.fit(X_train['essay'].values)\n",
    "X_train_BOW = vectorizer_bow.transform(X_train['essay'].values)\n",
    "X_cv_BOW = vectorizer_bow.transform(X_cv['essay'].values)\n",
    "print('BOW')\n",
    "print(X_train_BOW.shape)\n",
    "print(X_cv_BOW.shape)\n",
    "\n",
    "\n"
   ]
  },
  {
   "cell_type": "markdown",
   "metadata": {
    "colab_type": "text",
    "id": "bGy86kgHb3dX"
   },
   "source": [
    "<h2>1.4 Make Data Model Ready: encoding numerical, categorical features</h2>"
   ]
  },
  {
   "cell_type": "code",
   "execution_count": 27,
   "metadata": {
    "colab": {},
    "colab_type": "code",
    "id": "EfXkofX1b3da"
   },
   "outputs": [
    {
     "name": "stdout",
     "output_type": "stream",
     "text": [
      "(72832, 5) (72832,)\n",
      "(36416, 5) (36416,)\n",
      "(72832, 4) (72832,)\n",
      "(36416, 4) (36416,)\n",
      "(72832, 51) (72832,)\n",
      "(36416, 51) (36416,)\n",
      "(72832, 9) (72832,)\n",
      "(36416, 9) (36416,)\n",
      "(72832, 30) (72832,)\n",
      "(36416, 30) (36416,)\n",
      "After vectorizations Price\n",
      "(72832, 1) (72832,)\n",
      "(36416, 1) (36416,)\n",
      "After vectorizations Posted Projects\n",
      "(72832, 1) (72832,)\n",
      "(36416, 1) (36416,)\n",
      "Final Data matrix\n",
      "(72832, 10101) (72832,)\n",
      "(36416, 10101) (36416,)\n",
      "(72832, 10101) (72832,)\n",
      "(36416, 10101) (36416,)\n"
     ]
    }
   ],
   "source": [
    "# please write all the code with proper documentation, and proper titles for each subsection\n",
    "# go through documentations and blogs before you start coding \n",
    "# first figure out what to do, and then think about how to do.\n",
    "# reading and understanding error messages will be very much helpfull in debugging your code\n",
    "# make sure you featurize train and test data separatly\n",
    "\n",
    "# when you plot any graph make sure you use \n",
    "    # a. Title, that describes your plot, this will be very helpful to the reader\n",
    "    # b. Legends if needed\n",
    "    # c. X-axis label\n",
    "    # d. Y-axis label\n",
    "# teacher_prefix\n",
    "# - project_grade_category\n",
    "# - school_state\n",
    "# - clean_categories\n",
    "# - clean_subcategories\n",
    "vectorizer_teacher = CountVectorizer()\n",
    "vectorizer_teacher.fit(X_train['teacher_prefix'].values)\n",
    "\n",
    "X_train_teacher_ohe = vectorizer_teacher.transform(X_train['teacher_prefix'].values)\n",
    "X_cv_teacher_ohe = vectorizer_teacher.transform(X_cv['teacher_prefix'].values)\n",
    "\n",
    "print(X_train_teacher_ohe.shape, y_train.shape)\n",
    "print(X_cv_teacher_ohe.shape, y_cv.shape)\n",
    "\n",
    "vectorizer_project = CountVectorizer()\n",
    "vectorizer_project.fit(X_train['project_grade_category'].values)\n",
    "\n",
    "X_train_project_ohe = vectorizer_project.transform(X_train['project_grade_category'].values)\n",
    "X_cv_project_ohe = vectorizer_project.transform(X_cv['project_grade_category'].values)\n",
    "\n",
    "print(X_train_project_ohe.shape, y_train.shape)\n",
    "print(X_cv_project_ohe.shape, y_cv.shape)\n",
    "\n",
    "vectorizer_state = CountVectorizer()\n",
    "vectorizer_state.fit(X_train['school_state'].values)\n",
    "\n",
    "X_train_state_ohe = vectorizer_state.transform(X_train['school_state'].values)\n",
    "X_cv_state_ohe = vectorizer_state.transform(X_cv['school_state'].values)\n",
    "\n",
    "print(X_train_state_ohe.shape, y_train.shape)\n",
    "print(X_cv_state_ohe.shape, y_cv.shape)\n",
    "\n",
    "vectorizer_categories = CountVectorizer()\n",
    "vectorizer_categories.fit(X_train['clean_categories'].values)\n",
    "\n",
    "X_train_categories_ohe = vectorizer_categories.transform(X_train['clean_categories'].values)\n",
    "X_cv_categories_ohe = vectorizer_categories.transform(X_cv['clean_categories'].values)\n",
    "\n",
    "print(X_train_categories_ohe.shape, y_train.shape)\n",
    "print(X_cv_categories_ohe.shape, y_cv.shape)\n",
    "\n",
    "vectorizer_subcategories = CountVectorizer()\n",
    "vectorizer_subcategories.fit(X_train['clean_subcategories'].values)\n",
    "\n",
    "X_train_subcategories_ohe = vectorizer_subcategories.transform(X_train['clean_subcategories'].values)\n",
    "X_cv_subcategories_ohe = vectorizer_subcategories.transform(X_cv['clean_subcategories'].values)\n",
    "\n",
    "print(X_train_subcategories_ohe.shape, y_train.shape)\n",
    "print(X_cv_subcategories_ohe.shape, y_cv.shape)\n",
    "\n",
    "\n",
    "#normalizing numerical feautures\n",
    "from sklearn.preprocessing import MinMaxScaler\n",
    "\n",
    "scaler = MinMaxScaler()\n",
    "scaler.fit(X_train['price'].values.reshape(-1, 1))\n",
    "X_train_price_norm = scaler.transform(X_train['price'].values.reshape(-1, 1))\n",
    "X_cv_price_norm = scaler.transform(X_cv['price'].values.reshape(-1,1))\n",
    "\n",
    "\n",
    "print(\"After vectorizations Price\")\n",
    "print(X_train_price_norm.shape, y_train.shape)\n",
    "print(X_cv_price_norm.shape, y_cv.shape)\n",
    "\n",
    "scaler1 = MinMaxScaler()\n",
    "scaler1.fit(X_train['teacher_number_of_previously_posted_projects'].values.reshape(-1, 1))\n",
    "X_train_posted_norm = scaler1.transform(X_train['teacher_number_of_previously_posted_projects'].values.reshape(-1, 1))\n",
    "X_cv_posted_norm = scaler1.transform(X_cv['teacher_number_of_previously_posted_projects'].values.reshape(-1,1))\n",
    "\n",
    "\n",
    "print(\"After vectorizations Posted Projects\")\n",
    "print(X_train_posted_norm.shape, y_train.shape)\n",
    "print(X_cv_posted_norm.shape, y_cv.shape)\n",
    "\n",
    "\n",
    "from scipy.sparse import hstack\n",
    "X_tr_bow = hstack((X_train_BOW, X_train_teacher_ohe, X_train_project_ohe, X_train_state_ohe, X_train_categories_ohe, X_train_subcategories_ohe, X_train_price_norm, X_train_posted_norm)).tocsr()\n",
    "X_cv_bow = hstack((X_cv_BOW, X_cv_teacher_ohe, X_cv_project_ohe, X_cv_state_ohe, X_cv_categories_ohe, X_cv_subcategories_ohe, X_cv_price_norm, X_cv_posted_norm)).tocsr()\n",
    "X_tr_tf = hstack((X_train_tf, X_train_teacher_ohe, X_train_project_ohe, X_train_state_ohe, X_train_categories_ohe, X_train_subcategories_ohe, X_train_price_norm, X_train_posted_norm)).tocsr()\n",
    "X_cv_tf = hstack((X_cv_tf, X_cv_teacher_ohe, X_cv_project_ohe, X_cv_state_ohe, X_cv_categories_ohe, X_cv_subcategories_ohe, X_cv_price_norm, X_cv_posted_norm)).tocsr()\n",
    "\n",
    "print(\"Final Data matrix\")\n",
    "print(X_tr_bow.shape, y_train.shape)\n",
    "print(X_cv_bow.shape, y_cv.shape)\n",
    "print(X_tr_tf.shape, y_train.shape)\n",
    "print(X_cv_tf.shape, y_cv.shape)\n"
   ]
  },
  {
   "cell_type": "markdown",
   "metadata": {
    "colab_type": "text",
    "id": "yYHPYadYb3dh"
   },
   "source": [
    "<h2>1.5 Appling NB on different kind of featurization as mentioned in the instructions</h2>\n",
    "\n",
    "<br>Apply NB on different kind of featurization as mentioned in the instructions\n",
    "<br> For Every model that you work on make sure you do the step 2 and step 3 of instrucations"
   ]
  },
  {
   "cell_type": "code",
   "execution_count": 9,
   "metadata": {},
   "outputs": [],
   "source": [
    "def batch_predict(clf, data):\n",
    "    # roc_auc_score(y_true, y_score) the 2nd parameter should be probability estimates of the positive class\n",
    "    # not the predicted outputs\n",
    "\n",
    "    y_data_pred = []\n",
    "    tr_loop = data.shape[0] - data.shape[0]%1000\n",
    "    # consider you X_tr shape is 49041, then your tr_loop will be 49041 - 49041%1000 = 49000\n",
    "    # in this for loop we will iterate unti the last 1000 multiplier\n",
    "    for i in range(0, tr_loop, 1000):\n",
    "        y_data_pred.extend(clf.predict_proba(data[i:i+1000])[:,1])\n",
    "    # we will be predicting for the last data points\n",
    "    if data.shape[0]%1000 !=0:\n",
    "        y_data_pred.extend(clf.predict_proba(data[tr_loop:])[:,1])\n",
    "    \n",
    "    return y_data_pred"
   ]
  },
  {
   "cell_type": "code",
   "execution_count": 10,
   "metadata": {},
   "outputs": [],
   "source": [
    "def find_best_threshold(threshould, fpr, tpr):\n",
    "    t = threshould[np.argmax(tpr*(1-fpr))]\n",
    "    # (tpr*(1-fpr)) will be maximum if your fpr is very low and tpr is very high\n",
    "    return t\n",
    "\n",
    "def predict_with_best_t(proba, threshould):\n",
    "    predictions = []\n",
    "    for i in proba:\n",
    "        if i>=threshould:\n",
    "            predictions.append(1)\n",
    "        else:\n",
    "            predictions.append(0)\n",
    "    return predictions"
   ]
  },
  {
   "cell_type": "code",
   "execution_count": 57,
   "metadata": {},
   "outputs": [],
   "source": [
    "from sklearn.metrics import confusion_matrix\n",
    "import seaborn as sns\n",
    "import matplotlib.pyplot as plt     \n",
    "\n",
    "def auc_calc_function(best_alpha, X_train, y_train, X_cv, y_cv, featurization):\n",
    "    classifier = MultinomialNB(alpha=best_alpha, fit_prior=True, class_prior=[0.5, 0.5])\n",
    "    classifier.fit(X_train, y_train)\n",
    "    y_train_pred = batch_predict(classifier, X_train)    \n",
    "    y_cv_pred = batch_predict(classifier, X_cv)\n",
    "\n",
    "    train_fpr, train_tpr, tr_thresholds = roc_curve(y_train, y_train_pred)\n",
    "    cv_fpr, cv_tpr, cv_thresholds = roc_curve(y_cv, y_cv_pred)\n",
    "    \n",
    "    auc_score =auc(cv_fpr,cv_tpr)\n",
    "    \n",
    "    plt.plot(train_fpr, train_tpr, label=\"train AUC =\"+str(auc(train_fpr, train_tpr)))\n",
    "    plt.plot(cv_fpr, cv_tpr, label=\"cv AUC =\"+str(auc(cv_fpr, cv_tpr)))\n",
    "    plt.legend()\n",
    "    plt.xlabel(\"alpha: hyperparameter\")\n",
    "    plt.ylabel(\"AUC\")\n",
    "    plt.title(featurization + \" AUC SCORE\")\n",
    "    plt.grid()\n",
    "    plt.show()\n",
    "    \n",
    "    best_t = find_best_threshold(tr_thresholds, train_fpr, train_tpr)\n",
    "    cm_train = confusion_matrix(y_train, predict_with_best_t(y_train_pred, best_t))\n",
    "    cm_cv = confusion_matrix(y_cv, predict_with_best_t(y_cv_pred, best_t))\n",
    "    print(\"Train \" + featurization +\" confusion matrix\")\n",
    "    ax = sns.heatmap(cm_train, annot=True,fmt=\"d\",cmap='Blues')\n",
    "    plt.show()\n",
    "    print(\"Test \" + featurization +\" confusion matrix\")\n",
    "    ax = sns.heatmap(cm_cv, annot=True,fmt=\"d\",cmap='Blues')\n",
    "    plt.show()\n",
    "    \n",
    "    negative_prob = (classifier.feature_log_prob_)[0]\n",
    "    positive_prob = (classifier.feature_log_prob_)[1]\n",
    "    feature_names = vectorizer_bow.get_feature_names()\n",
    "    negative_feat = sorted(zip(negative_prob, feature_names),reverse=True)[:20]\n",
    "\n",
    "    positive_feat = sorted(zip(positive_prob, feature_names),reverse=True)[:20]\n",
    "    \n",
    "    #https://stackoverflow.com/questions/22412258/get-the-first-element-of-each-tuple-in-a-list-in-python\n",
    "    \n",
    "    print('====================NEGATIVE===========================================\\n')\n",
    "    print([x for _,x in negative_feat])\n",
    "    print('====================POSITIVE===========================================\\n')\n",
    "    print([x for _,x in positive_feat])\n",
    "    return auc_score"
   ]
  },
  {
   "cell_type": "markdown",
   "metadata": {},
   "source": [
    "# BOW:"
   ]
  },
  {
   "cell_type": "code",
   "execution_count": 55,
   "metadata": {
    "colab": {},
    "colab_type": "code",
    "id": "DNwqilFxb3di"
   },
   "outputs": [
    {
     "data": {
      "image/png": "[encoded data removed]",
      "text/plain": [
       "<Figure size 432x288 with 1 Axes>"
      ]
     },
     "metadata": {
      "needs_background": "light"
     },
     "output_type": "display_data"
    },
    {
     "name": "stdout",
     "output_type": "stream",
     "text": [
      "the best alpha value is 0.01\n"
     ]
    },
    {
     "data": {
      "image/png": "[encoded data removed]",
      "text/plain": [
       "<Figure size 432x288 with 1 Axes>"
      ]
     },
     "metadata": {
      "needs_background": "light"
     },
     "output_type": "display_data"
    },
    {
     "name": "stdout",
     "output_type": "stream",
     "text": [
      "Train BOW confusion matrix\n"
     ]
    },
    {
     "data": {
      "image/png": "[encoded data removed]",
      "text/plain": [
       "<Figure size 432x288 with 2 Axes>"
      ]
     },
     "metadata": {
      "needs_background": "light"
     },
     "output_type": "display_data"
    },
    {
     "name": "stdout",
     "output_type": "stream",
     "text": [
      "Test BOW confusion matrix\n"
     ]
    },
    {
     "data": {
      "image/png": "[encoded data removed]",
      "text/plain": [
       "<Figure size 432x288 with 2 Axes>"
      ]
     },
     "metadata": {
      "needs_background": "light"
     },
     "output_type": "display_data"
    },
    {
     "name": "stdout",
     "output_type": "stream",
     "text": [
      "====================NEGATIVE===========================================\n",
      "\n",
      "['students', 'school', 'learning', 'my', 'classroom', 'not', 'learn', 'they', 'help', 'the', 'my students', 'nannan', 'many', 'we', 'need', 'work', 'come', 'love', 'able', 'reading']\n",
      "====================POSITIVE===========================================\n",
      "\n",
      "['students', 'school', 'my', 'learning', 'classroom', 'the', 'they', 'not', 'my students', 'learn', 'help', 'many', 'nannan', 'we', 'need', 'work', 'reading', 'use', 'love', 'day']\n"
     ]
    }
   ],
   "source": [
    "# please write all the code with proper documentation, and proper titles for each subsection\n",
    "# go through documentations and blogs before you start coding\n",
    "# first figure out what to do, and then think about how to do.\n",
    "# reading and understanding error messages will be very much helpfull in debugging your code\n",
    "# when you plot any graph make sure you use \n",
    "    # a. Title, that describes your plot, this will be very helpful to the reader\n",
    "    # b. Legends if needed\n",
    "    # c. X-axis label\n",
    "    # d. Y-axis label\n",
    "from sklearn.naive_bayes import MultinomialNB\n",
    "from sklearn.metrics import roc_auc_score, roc_curve, auc\n",
    "import numpy as np\n",
    "from sklearn.model_selection import GridSearchCV\n",
    "\n",
    "\n",
    "clf=MultinomialNB(fit_prior=True, class_prior=[0.5, 0.5]) #with class_prior set as [0.5, 0.5] we see a little increase in accuracy.\n",
    "params = {'alpha':[10**i for i in range(-4,4)]}\n",
    "RSearch = GridSearchCV(clf,params, cv=3, scoring='roc_auc', return_train_score=True ,n_jobs=-1)\n",
    "RSearch.fit(X_tr_bow,y_train)\n",
    "\n",
    "#https://scikit-learn.org/stable/modules/generated/sklearn.model_selection.RandomizedSearchCV.html (cv_results_)\n",
    "\n",
    "result = pd.DataFrame.from_dict(RSearch.cv_results_)\n",
    "result = result.sort_values(['param_alpha'])\n",
    "train_auc = result['mean_train_score']\n",
    "train_auc_std = result['std_train_score']\n",
    "cv_auc = result['mean_test_score']\n",
    "cv_auc_std = result['std_test_score']\n",
    "alpha = result['param_alpha']\n",
    "\n",
    "plt.plot([np.log10(alpha[i]) for i in range(len(alpha))], train_auc, label='Train AUC')\n",
    "plt.plot([np.log10(alpha[i]) for i in range(len(alpha))], cv_auc, label='CV AUC')\n",
    "\n",
    "plt.scatter([np.log10(alpha[i]) for i in range(len(alpha))], train_auc, label='Train AUC points')\n",
    "plt.scatter([np.log10(alpha[i]) for i in range(len(alpha))], cv_auc, label='CV AUC points')\n",
    "\n",
    "plt.legend()\n",
    "plt.xlabel(\"alphas: hyperparameter\")\n",
    "plt.ylabel(\"AUC\")\n",
    "plt.title(\"BOW ERROR PLOTS\")\n",
    "plt.grid()\n",
    "plt.show()\n",
    "\n",
    "best_alpha=RSearch.best_estimator_\n",
    "print(\"the best alpha value is\",best_alpha.alpha)\n",
    "\n",
    "auc_bow = auc_calc_function(best_alpha.alpha, X_tr_bow, y_train, X_cv_bow, y_cv, 'BOW')\n"
   ]
  },
  {
   "cell_type": "markdown",
   "metadata": {},
   "source": [
    "# TF-IDF:"
   ]
  },
  {
   "cell_type": "code",
   "execution_count": 56,
   "metadata": {},
   "outputs": [
    {
     "data": {
      "image/png": "[encoded data removed]",
      "text/plain": [
       "<Figure size 432x288 with 1 Axes>"
      ]
     },
     "metadata": {
      "needs_background": "light"
     },
     "output_type": "display_data"
    },
    {
     "name": "stdout",
     "output_type": "stream",
     "text": [
      "the best alpha value is 0.0001\n"
     ]
    },
    {
     "data": {
      "image/png": "[encoded data removed]",
      "text/plain": [
       "<Figure size 432x288 with 1 Axes>"
      ]
     },
     "metadata": {
      "needs_background": "light"
     },
     "output_type": "display_data"
    },
    {
     "name": "stdout",
     "output_type": "stream",
     "text": [
      "Train TF-IDF confusion matrix\n"
     ]
    },
    {
     "data": {
      "image/png": "[encoded data removed]",
      "text/plain": [
       "<Figure size 432x288 with 2 Axes>"
      ]
     },
     "metadata": {
      "needs_background": "light"
     },
     "output_type": "display_data"
    },
    {
     "name": "stdout",
     "output_type": "stream",
     "text": [
      "Test TF-IDF confusion matrix\n"
     ]
    },
    {
     "data": {
      "image/png": "[encoded data removed]",
      "text/plain": [
       "<Figure size 432x288 with 2 Axes>"
      ]
     },
     "metadata": {
      "needs_background": "light"
     },
     "output_type": "display_data"
    },
    {
     "name": "stdout",
     "output_type": "stream",
     "text": [
      "====================NEGATIVE===========================================\n",
      "\n",
      "['students', 'school', 'learning', 'my', 'classroom', 'they', 'not', 'learn', 'help', 'the', 'my students', 'we', 'materials', 'many', 'need', 'work', 'reading', 'skills', 'want', 'come']\n",
      "====================POSITIVE===========================================\n",
      "\n",
      "['students', 'school', 'learning', 'classroom', 'my', 'they', 'the', 'reading', 'not', 'my students', 'help', 'learn', 'we', 'books', 'many', 'technology', 'work', 'need', 'use', 'love']\n"
     ]
    }
   ],
   "source": [
    "clf1=MultinomialNB(fit_prior=True, class_prior=[0.5, 0.5]) #with class_prior set as [0.5, 0.5] we see a little increase in accuracy.\n",
    "params1 = {'alpha':[10**i for i in range(-4,4)]}\n",
    "RSearch1 = GridSearchCV(clf1,params1, cv=3, scoring='roc_auc', return_train_score=True ,n_jobs=-1)\n",
    "RSearch1.fit(X_tr_tf,y_train)\n",
    "\n",
    "#https://scikit-learn.org/stable/modules/generated/sklearn.model_selection.RandomizedSearchCV.html (cv_results_)\n",
    "\n",
    "result = pd.DataFrame.from_dict(RSearch1.cv_results_)\n",
    "result = result.sort_values(['param_alpha'])\n",
    "train_auc = result['mean_train_score']\n",
    "train_auc_std = result['std_train_score']\n",
    "cv_auc = result['mean_test_score']\n",
    "cv_auc_std = result['std_test_score']\n",
    "alpha = result['param_alpha']\n",
    "\n",
    "plt.plot([np.log10(alpha[i]) for i in range(len(alpha))], train_auc, label='Train AUC')\n",
    "plt.plot([np.log10(alpha[i]) for i in range(len(alpha))], cv_auc, label='CV AUC')\n",
    "\n",
    "plt.scatter([np.log10(alpha[i]) for i in range(len(alpha))], train_auc, label='Train AUC points')\n",
    "plt.scatter([np.log10(alpha[i]) for i in range(len(alpha))], cv_auc, label='CV AUC points')\n",
    "\n",
    "plt.legend()\n",
    "plt.xlabel(\"alphas: hyperparameter\")\n",
    "plt.ylabel(\"AUC\")\n",
    "plt.title(\"TF-IDF ERROR PLOTS\")\n",
    "plt.grid()\n",
    "plt.show()\n",
    "\n",
    "best_alpha1=RSearch1.best_estimator_\n",
    "print(\"the best alpha value is\",best_alpha1.alpha)\n",
    "\n",
    "auc_tf = auc_calc_function(best_alpha1.alpha, X_tr_tf, y_train, X_cv_tf, y_cv, 'TF-IDF')\n"
   ]
  },
  {
   "cell_type": "markdown",
   "metadata": {
    "colab_type": "text",
    "id": "lS9hIHdib3dp"
   },
   "source": [
    "<h1>3. Summary</h1>\n",
    "\n",
    "<br> as mentioned in the step 5 of instructions"
   ]
  },
  {
   "cell_type": "code",
   "execution_count": 60,
   "metadata": {},
   "outputs": [
    {
     "name": "stdout",
     "output_type": "stream",
     "text": [
      "+------------+-------------+-----------------+--------------------+\n",
      "| Vectorizer |    Model    | Hyper-Parameter |        AUC         |\n",
      "+------------+-------------+-----------------+--------------------+\n",
      "|    BOW     | Naive Bayes |       0.01      | 0.6972861127177831 |\n",
      "|   TFIDF    | Naive Bayes |      0.0001     | 0.6821905012786041 |\n",
      "+------------+-------------+-----------------+--------------------+\n"
     ]
    }
   ],
   "source": [
    "from prettytable import PrettyTable\n",
    "pt=PrettyTable() \n",
    "pt.field_names = [\"Vectorizer\", \"Model\", \"Hyper-Parameter\", \"AUC\"] \n",
    "pt.add_row([\" BOW \", \"Naive Bayes\", best_alpha.alpha,auc_bow])\n",
    "pt.add_row([\" TFIDF \", \"Naive Bayes\", best_alpha1.alpha, auc_tf]) \n",
    "print(pt)"
   ]
  }
 ],
 "metadata": {
  "colab": {
   "collapsed_sections": [],
   "name": "6_Assignment_NB_Instructions.ipynb",
   "provenance": []
  },
  "kernelspec": {
   "display_name": "Python 3",
   "language": "python",
   "name": "python3"
  },
  "language_info": {
   "codemirror_mode": {
    "name": "ipython",
    "version": 3
   },
   "file_extension": ".py",
   "mimetype": "text/x-python",
   "name": "python",
   "nbconvert_exporter": "python",
   "pygments_lexer": "ipython3",
   "version": "3.8.3"
  }
 },
 "nbformat": 4,
 "nbformat_minor": 1
}
